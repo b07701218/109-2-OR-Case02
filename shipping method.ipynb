{
 "cells": [
  {
   "cell_type": "markdown",
   "metadata": {},
   "source": [
    "# Operations Reasearch: Case 2 Problem 2"
   ]
  },
  {
   "cell_type": "code",
   "execution_count": 1,
   "metadata": {},
   "outputs": [],
   "source": [
    "from gurobi import *\n",
    "import pandas as pd"
   ]
  },
  {
   "cell_type": "code",
   "execution_count": 2,
   "metadata": {},
   "outputs": [
    {
     "name": "stdout",
     "output_type": "stream",
     "text": [
      "Academic license - for non-commercial use only - expires 2021-06-02\n",
      "Using license file /Users/sunny/gurobi.lic\n"
     ]
    }
   ],
   "source": [
    "case_2 = Model(\"case_2\")"
   ]
  },
  {
   "cell_type": "markdown",
   "metadata": {},
   "source": [
    "## Parameters"
   ]
  },
  {
   "cell_type": "code",
   "execution_count": 3,
   "metadata": {},
   "outputs": [],
   "source": [
    "S_I = 100 # Set of products\n",
    "S_J = 3   # Set of shipping methods\n",
    "S_T = 26  # Set of months\n",
    "S_V = 2"
   ]
  },
  {
   "cell_type": "code",
   "execution_count": 4,
   "metadata": {},
   "outputs": [
    {
     "name": "stdout",
     "output_type": "stream",
     "text": [
      "[[44, 18, 0], [89, 45, 0], [86, 38, 0], [91, 46, 0], [50, 21, 0], [51, 25, 0], [83, 46, 0], [96, 49, 0], [80, 35, 0], [49, 20, 0], [53, 37, 0], [80, 75, 0], [86, 63, 0], [90, 88, 0], [50, 36, 0], [41, 27, 0], [73, 53, 0], [92, 82, 0], [81, 49, 0], [56, 39, 0], [48, 27, 0], [84, 63, 0], [86, 61, 0], [85, 84, 0], [58, 43, 0], [46, 29, 0], [65, 40, 0], [101, 82, 0], [78, 43, 0], [47, 36, 0], [46, 39, 0], [75, 61, 0], [78, 50, 0], [86, 83, 0], [58, 51, 0], [41, 27, 0], [71, 48, 0], [106, 99, 0], [84, 61, 0], [37, 20, 0], [51, 34, 0], [80, 79, 0], [75, 60, 0], [79, 59, 0], [68, 65, 0], [36, 27, 0], [76, 43, 0], [110, 62, 0], [81, 54, 0], [38, 21, 0], [42, 22, 0], [86, 68, 0], [78, 74, 0], [84, 64, 0], [61, 56, 0], [38, 30, 0], [77, 51, 0], [118, 118, 0], [77, 49, 0], [34, 25, 0], [48, 32, 0], [83, 73, 0], [74, 72, 0], [91, 74, 0], [55, 34, 0], [30, 20, 0], [71, 44, 0], [113, 69, 0], [67, 65, 0], [31, 19, 0], [44, 26, 0], [76, 72, 0], [77, 40, 0], [98, 84, 0], [48, 28, 0], [32, 32, 0], [68, 48, 0], [110, 71, 0], [67, 37, 0], [38, 36, 0], [47, 38, 0], [86, 71, 0], [86, 56, 0], [107, 106, 0], [49, 48, 0], [29, 26, 0], [76, 42, 0], [113, 97, 0], [75, 59, 0], [33, 26, 0], [55, 40, 0], [85, 61, 0], [92, 72, 0], [99, 68, 0], [44, 32, 0], [28, 20, 0], [71, 66, 0], [113, 61, 0], [82, 63, 0], [37, 30, 0], [61, 59, 0], [80, 54, 0], [93, 57, 0], [95, 94, 0], [53, 53, 0], [25, 20, 0], [78, 68, 0], [108, 93, 0], [87, 58, 0], [40, 23, 0], [71, 50, 0], [76, 47, 0], [99, 98, 0], [86, 54, 0], [51, 29, 0], [35, 18, 0], [79, 41, 0], [117, 67, 0], [82, 46, 0], [41, 34, 0], [75, 42, 0], [69, 61, 0], [108, 70, 0], [83, 60, 0], [41, 37, 0], [38, 20, 0], [71, 36, 0], [126, 111, 0], [74, 63, 0], [31, 26, 0], [71, 36, 0], [74, 63, 0], [110, 109, 0], [76, 39, 0], [49, 49, 0], [32, 19, 0], [62, 50, 0], [118, 97, 0], [80, 74, 0], [29, 25, 0], [79, 53, 0], [80, 60, 0], [106, 67, 0], [71, 64, 0], [59, 37, 0], [26, 25, 0], [72, 55, 0], [118, 117, 0], [87, 57, 0], [31, 29, 0], [82, 45, 0], [73, 43, 0], [100, 74, 0], [65, 52, 0], [50, 37, 0], [25, 15, 0], [70, 43, 0], [114, 78, 0], [78, 41, 0], [39, 22, 0], [79, 79, 0], [71, 49, 0], [108, 107, 0], [71, 45, 0], [44, 40, 0], [16, 9, 0], [63, 56, 0], [108, 89, 0], [79, 77, 0], [49, 37, 0], [76, 38, 0], [72, 66, 0], [105, 96, 0], [79, 40, 0], [40, 26, 0], [14, 8, 0], [53, 31, 0], [102, 92, 0], [82, 69, 0], [42, 33, 0], [68, 45, 0], [78, 70, 0], [108, 90, 0], [78, 61, 0], [30, 19, 0], [17, 13, 0], [51, 32, 0], [109, 107, 0], [82, 70, 0], [34, 29, 0], [66, 46, 0], [74, 40, 0], [110, 64, 0], [70, 46, 0], [35, 32, 0], [17, 9, 0], [43, 30, 0], [115, 113, 0], [86, 86, 0], [27, 17, 0], [70, 61, 0], [81, 64, 0], [114, 102, 0], [61, 50, 0], [30, 20, 0], [25, 22, 0], [51, 46, 0], [119, 110, 0], [87, 55, 0], [30, 30, 0], [60, 32, 0], [78, 73, 0], [119, 69, 0], [71, 71, 0], [30, 30, 0], [23, 12, 0], [51, 40, 0], [110, 61, 0], [82, 57, 0], [38, 24, 0], [68, 35, 0], [87, 63, 0], [109, 103, 0], [62, 44, 0], [39, 23, 0], [20, 13, 0], [42, 22, 0], [109, 83, 0], [92, 85, 0], [33, 17, 0], [75, 63, 0], [79, 63, 0], [115, 97, 0], [71, 68, 0], [39, 20, 0], [20, 12, 0], [41, 27, 0], [108, 58, 0], [88, 71, 0], [37, 25, 0], [75, 57, 0], [82, 54, 0], [110, 86, 0], [71, 52, 0], [29, 18, 0], [17, 9, 0], [34, 28, 0], [100, 55, 0], [86, 81, 0], [45, 32, 0], [80, 54, 0], [90, 83, 0], [107, 58, 0], [79, 68, 0], [27, 22, 0], [23, 23, 0], [40, 36, 0], [95, 54, 0], [90, 71, 0], [54, 47, 0], [81, 75, 0], [80, 54, 0], [107, 76, 0], [69, 44, 0], [32, 21, 0], [23, 14, 0], [43, 39, 0], [101, 95, 0], [97, 96, 0], [44, 25, 0], [78, 74, 0], [78, 76, 0], [112, 77, 0], [70, 38, 0], [29, 20, 0], [24, 17, 0], [47, 26, 0], [106, 99, 0], [103, 71, 0], [41, 29, 0], [86, 79, 0], [83, 50, 0], [117, 103, 0], [62, 53, 0], [35, 28, 0], [28, 23, 0], [43, 35, 0], [99, 89, 0], [97, 50, 0], [40, 26, 0], [77, 60, 0], [80, 62, 0], [119, 105, 0], [59, 56, 0], [40, 25, 0], [38, 24, 0], [50, 49, 0], [101, 67, 0], [87, 66, 0], [41, 38, 0], [86, 56, 0], [89, 80, 0], [127, 71, 0], [66, 53, 0], [47, 46, 0], [32, 32, 0], [55, 34, 0], [94, 87, 0], [93, 55, 0], [34, 25, 0], [76, 61, 0], [89, 87, 0], [120, 118, 0], [64, 38, 0], [42, 31, 0], [29, 20, 0], [63, 35, 0], [102, 56, 0], [83, 52, 0], [28, 15, 0], [67, 65, 0], [99, 61, 0], [121, 88, 0], [63, 55, 0], [41, 21, 0], [36, 27, 0], [58, 36, 0], [92, 72, 0], [79, 63, 0], [31, 17, 0], [68, 41, 0], [96, 77, 0], [112, 63, 0], [57, 52, 0], [40, 24, 0], [36, 24, 0], [64, 51, 0], [86, 50, 0], [81, 68, 0], [26, 15, 0], [62, 32, 0], [103, 69, 0], [112, 57, 0], [64, 53, 0], [41, 24, 0], [32, 32, 0], [68, 37, 0], [80, 57, 0], [85, 43, 0], [20, 15, 0], [65, 52, 0], [112, 91, 0], [120, 75, 0], [54, 44, 0], [40, 32, 0], [30, 27, 0], [59, 55, 0], [86, 68, 0], [95, 69, 0], [15, 15, 0], [61, 36, 0], [115, 68, 0], [126, 77, 0], [59, 52, 0], [47, 25, 0], [30, 24, 0], [63, 33, 0], [96, 54, 0], [105, 75, 0], [23, 22, 0], [70, 38, 0], [113, 103, 0], [116, 104, 0], [50, 40, 0], [47, 43, 0], [24, 17, 0], [69, 43, 0], [106, 67, 0], [110, 69, 0], [24, 16, 0], [79, 50, 0], [103, 102, 0], [126, 106, 0], [41, 29, 0], [40, 33, 0], [25, 24, 0], [77, 65, 0], [111, 56, 0], [104, 82, 0], [23, 12, 0], [76, 76, 0], [94, 68, 0], [117, 114, 0], [49, 36, 0], [37, 21, 0], [24, 19, 0], [67, 63, 0], [103, 88, 0], [98, 78, 0], [15, 15, 0], [79, 70, 0], [92, 57, 0], [113, 83, 0], [43, 40, 0], [35, 28, 0], [34, 24, 0], [64, 37, 0], [108, 97, 0], [97, 58, 0], [16, 15, 0], [69, 49, 0], [91, 59, 0], [117, 109, 0], [53, 48, 0], [45, 23, 0], [34, 29, 0], [55, 46, 0], [105, 70, 0], [97, 52, 0], [19, 17, 0], [69, 62, 0], [90, 47, 0], [116, 97, 0], [61, 46, 0], [35, 18, 0], [37, 23, 0], [49, 25, 0], [110, 76, 0], [95, 55, 0], [27, 14, 0], [67, 36, 0], [87, 51, 0], [113, 71, 0], [70, 55, 0], [32, 16, 0], [38, 21, 0], [56, 35, 0], [101, 58, 0], [95, 95, 0], [34, 33, 0], [61, 42, 0], [79, 57, 0], [122, 94, 0], [63, 40, 0], [26, 23, 0], [44, 43, 0], [64, 35, 0], [108, 96, 0], [92, 62, 0], [42, 31, 0], [65, 54, 0], [70, 64, 0], [131, 117, 0], [57, 33, 0], [23, 12, 0], [38, 31, 0], [73, 66, 0], [107, 106, 0], [84, 47, 0], [44, 34, 0], [64, 59, 0], [62, 48, 0], [133, 101, 0], [63, 39, 0], [23, 19, 0], [34, 20, 0], [79, 47, 0], [98, 85, 0], [80, 77, 0], [44, 26, 0], [69, 37, 0], [55, 45, 0], [130, 67, 0], [61, 50, 0], [20, 15, 0], [42, 32, 0], [78, 66, 0], [88, 67, 0], [75, 40, 0], [47, 34, 0], [69, 48, 0], [48, 26, 0], [132, 106, 0], [58, 32, 0], [18, 9, 0], [46, 30, 0], [88, 73, 0], [95, 84, 0], [83, 69, 0], [43, 31, 0], [59, 44, 0], [39, 20, 0], [123, 93, 0], [58, 41, 0], [18, 13, 0], [45, 35, 0], [97, 89, 0], [95, 84, 0], [76, 42, 0], [37, 37, 0], [68, 36, 0], [48, 48, 0], [120, 66, 0], [65, 36, 0], [15, 11, 0], [37, 28, 0], [87, 64, 0], [94, 77, 0], [70, 39, 0], [34, 33, 0], [72, 39, 0], [39, 39, 0], [113, 73, 0], [55, 51, 0], [13, 9, 0], [41, 32, 0], [84, 44, 0], [101, 92, 0], [60, 54, 0], [33, 27, 0], [70, 40, 0], [43, 42, 0], [119, 105, 0], [57, 52, 0], [13, 9, 0], [32, 29, 0], [90, 89, 0], [110, 86, 0], [53, 37, 0], [29, 17, 0], [74, 41, 0], [44, 44, 0], [123, 77, 0], [48, 31, 0], [21, 18, 0], [34, 27, 0], [90, 56, 0], [111, 70, 0], [46, 28, 0], [27, 26, 0], [79, 42, 0], [35, 28, 0], [119, 70, 0], [53, 42, 0], [23, 23, 0], [28, 26, 0], [83, 62, 0], [107, 92, 0], [55, 52, 0], [23, 15, 0], [86, 61, 0], [44, 25, 0], [123, 82, 0], [62, 57, 0], [14, 10, 0], [29, 21, 0], [74, 53, 0], [104, 79, 0], [56, 37, 0], [31, 26, 0], [96, 96, 0], [50, 45, 0], [127, 71, 0], [55, 47, 0], [7, 4, 0], [32, 29, 0], [65, 59, 0], [100, 69, 0], [46, 42, 0], [28, 18, 0], [91, 64, 0], [47, 34, 0], [134, 74, 0], [65, 45, 0], [10, 8, 0], [26, 22, 0], [75, 59, 0], [94, 58, 0], [37, 35, 0], [28, 24, 0], [84, 68, 0], [53, 48, 0], [127, 102, 0], [70, 64, 0], [20, 13, 0], [30, 30, 0], [70, 70, 0], [87, 57, 0], [43, 34, 0], [38, 19, 0], [90, 50, 0], [48, 47, 0], [133, 96, 0], [61, 49, 0], [19, 13, 0], [31, 21, 0], [69, 37, 0], [91, 81, 0], [47, 34, 0], [38, 28, 0]]\n"
     ]
    }
   ],
   "source": [
    "url = r'OR109-2_case02_data_s5.xlsx'\n",
    "\n",
    "# D_it\n",
    "Demand_info = pd.read_excel(url, 'Demand').iloc[:,1:]\n",
    "Demand = []\n",
    "for i in Demand_info.index:\n",
    "    Demand.append(list(Demand_info.loc[i]))\n",
    "\n",
    "# I_it\n",
    "Init_inv_info = pd.read_excel(url, 'Initial inventory')\n",
    "In_transit_info = pd.read_excel(url, 'In-transit').iloc[:,2:]\n",
    "In_transit = []\n",
    "for i in In_transit_info.index:\n",
    "    In_transit.append([list(Init_inv_info['Initial inventory'])[i]] + list(In_transit_info.loc[i]) + [0] * (S_T - 3))\n",
    "\n",
    "# C^V_ij\n",
    "Shipping_cost_info = pd.read_excel(url, 'Shipping cost').iloc[:,1:]\n",
    "Shipping_cost = []\n",
    "for i in Shipping_cost_info.index:\n",
    "    Shipping_cost.append(list(Shipping_cost_info.loc[i]) + [0])\n",
    "print(Shipping_cost)\n",
    "Price_and_cost_info = pd.read_excel(url, 'Price and cost').iloc[:,1:]\n",
    "# C^P_i\n",
    "Purchasing_cost = list(Price_and_cost_info['Purchasing cost'])\n",
    "# C^H_i\n",
    "Holding_cost = list(Price_and_cost_info['Holding cost'])\n",
    "\n",
    "# C^F_j\n",
    "Fixed_cost_shipping_method = [100, 80, 50]\n",
    "\n",
    "# T_j\n",
    "Lead_time = [1, 2, 3]\n",
    "\n",
    "# V_i\n",
    "Product_size_info = pd.read_excel(url, 'Size')\n",
    "Product_size = list(Product_size_info['Size'])\n",
    "\n",
    "Shortage_info = pd.read_excel(url, 'Shortage')\n",
    "# C^L_i\n",
    "Lost_sales_cost = list(Shortage_info['Lost sales'])\n",
    "# C^B_i\n",
    "Backorder_cost = list(Shortage_info['Backorder'])\n",
    "# beta_i\n",
    "Backorder_percentage = list(Shortage_info['Backorder percentage'])\n",
    "\n",
    "Vendor_product_info = pd.read_excel(url, 'Vendor-Product')\n",
    "Vendor_product = list(Vendor_product_info['Vendor'])\n",
    "\n",
    "Vendor_cost_info = pd.read_excel(url, 'Vendor cost')\n",
    "Vendor_cost = list(Vendor_cost_info['Ordering cost'])\n",
    "\n",
    "Bounds_info = pd.read_excel(url, 'Bounds')\n",
    "Bounds = list(Bounds_info['Minimum order quantity (if an order is placed)'])\n",
    "\n",
    "Conflict_info = pd.read_excel(url, 'Conflict')\n",
    "product1_list = list(Conflict_info['Product 1'])\n",
    "product2_list = list(Conflict_info['Product 2'])\n",
    "Conflict = []\n",
    "for i in range(len(product1_list)):\n",
    "    Conflict.append(tuple([(int(product1_list[i]) - 1), (int(product2_list[i])- 1)]))\n",
    "\n",
    "# variable shipping cost\n",
    "ocean_shipping_cost = []\n",
    "for i in range(len(Product_size)):\n",
    "    unit_cost = Product_size[i] / 0.5 * 1500\n",
    "    ocean_shipping_cost.append(unit_cost)\n",
    "\n",
    "product_demand = []\n",
    "product_demand_from4 = []\n",
    "for i in range(len(Demand)):    \n",
    "    product_demand.append(sum(Demand[i]))\n",
    "    product_demand_from4.append(product_demand[i] - max(sum(In_transit[i]), sum(Demand[i][0:3])))\n"
   ]
  },
  {
   "cell_type": "markdown",
   "metadata": {},
   "source": [
    "## Choosing shipping method"
   ]
  },
  {
   "cell_type": "code",
   "execution_count": 5,
   "metadata": {},
   "outputs": [
    {
     "name": "stdout",
     "output_type": "stream",
     "text": [
      "1\n"
     ]
    }
   ],
   "source": [
    "ocean_cost_sum_from4 = 0\n",
    "for i in range(len(ocean_shipping_cost)):\n",
    "    ocean_cost_sum_from4 += product_demand_from4[i]*ocean_shipping_cost[i]\n",
    "ocean_cost_sum_from4 += 50 * len(Demand[0])\n",
    "\n",
    "express_cost_sum_from4 = 0\n",
    "for i in range(len(Shipping_cost)):\n",
    "    express_cost_sum_from4 += product_demand_from4[i]*Shipping_cost[i][0]\n",
    "express_cost_sum_from4 += 100*len(Demand[0])\n",
    "\n",
    "air_cost_sum_from4 = 0\n",
    "for i in range(len(Shipping_cost)):\n",
    "    air_cost_sum_from4 += product_demand_from4[i]*Shipping_cost[i][1]\n",
    "air_cost_sum_from4 += 80*len(Demand[0])\n",
    "\n",
    "if express_cost_sum_from4 <= air_cost_sum_from4 and express_cost_sum_from4 <= ocean_cost_sum_from4:\n",
    "    shipping_method = 0\n",
    "elif air_cost_sum_from4 <= express_cost_sum_from4 and air_cost_sum_from4 <= ocean_cost_sum_from4:\n",
    "    shipping_method = 1\n",
    "else:\n",
    "    shipping_method = 2\n",
    "print(shipping_method)"
   ]
  },
  {
   "cell_type": "markdown",
   "metadata": {},
   "source": [
    "# Vendors"
   ]
  },
  {
   "cell_type": "code",
   "execution_count": 6,
   "metadata": {},
   "outputs": [
    {
     "name": "stdout",
     "output_type": "stream",
     "text": [
      "[1, 2, 3, 4, 5, 6, 7, 8, 9, 10, 11, 12, 13]\n",
      "[0, 66, 124, 155, 198, 228, 259, 300, 366, 410, 442, 507, 548, 600]\n"
     ]
    }
   ],
   "source": [
    "Vendor_list = list(set(Vendor_product))\n",
    "print(Vendor_list)\n",
    "\n",
    "Vendor_sepr_index = []\n",
    "\n",
    "for i in range(len(Vendor_list)):\n",
    "    Vendor_sepr_index.append(Vendor_product.index(Vendor_list[i]))\n",
    "\n",
    "Vendor_sepr_index += [len(Vendor_product)]\n",
    "print(Vendor_sepr_index)"
   ]
  },
  {
   "cell_type": "markdown",
   "metadata": {},
   "source": [
    "## M"
   ]
  },
  {
   "cell_type": "code",
   "execution_count": 7,
   "metadata": {},
   "outputs": [],
   "source": [
    "M = quicksum(quicksum(Demand[i][t] for i in range(S_I))for t in range(S_T))"
   ]
  },
  {
   "cell_type": "markdown",
   "metadata": {},
   "source": [
    "## Variables"
   ]
  },
  {
   "cell_type": "code",
   "execution_count": 8,
   "metadata": {},
   "outputs": [],
   "source": [
    "x_vars = []  # product ordered\n",
    "for i in range(S_I):\n",
    "    x_vars.append([])\n",
    "    for j in range(S_J):\n",
    "        x_vars[i].append([])\n",
    "        for t in range(S_T):\n",
    "            x_vars[i][j].append(case_2.addVar(lb = 0, vtype=GRB.CONTINUOUS,\n",
    "                                              name=('x' + str(i+1) + ',' + str(j+1) + ',' + str(t+1))))\n",
    "\n",
    "u_vars = []  # inventory level at the end of period\n",
    "for i in range(S_I):\n",
    "    u_vars.append([])\n",
    "    for t in range(S_T):\n",
    "        u_vars[i].append(case_2.addVar(lb = 0, vtype=GRB.CONTINUOUS,\n",
    "                                       name=('u' + str(i+1) + ',' + str(t+1))))\n",
    "\n",
    "y_vars = []  # if method j is used\n",
    "for j in range(S_J):\n",
    "    y_vars.append([])\n",
    "    for t in range(S_T):\n",
    "        y_vars[j].append(case_2.addVar(lb = 0, vtype = GRB.BINARY,\n",
    "                                       name=('y' + str(j+1) + ',' + str(t+1))))\n",
    "\n",
    "z_vars = []  # containers needed\n",
    "for t in range(S_T):\n",
    "    z_vars.append(case_2.addVar(lb = 0, vtype = GRB.INTEGER,\n",
    "                                        name=('z' + str(t+1))))\n",
    "\n",
    "s_vars = []  # shortage level\n",
    "for i in range(S_I):\n",
    "    s_vars.append([])\n",
    "    for t in range(S_T):\n",
    "        s_vars[i].append(case_2.addVar(lb = 0, vtype=GRB.CONTINUOUS,\n",
    "                                       name=('s' + str(i+1) + ',' + str(t+1))))\n",
    "\n",
    "k_vars = []  # 1 if the inventory i level is 0 at the end of period t\n",
    "for i in range(S_I):\n",
    "    k_vars.append([])\n",
    "    for t in range(S_T):\n",
    "        k_vars[i].append(case_2.addVar(lb = 0, vtype=GRB.BINARY,\n",
    "                                       name=('k' + str(i+1) + ',' + str(t+1))))\n",
    "\n",
    "a_vars = []  # 1 if ordered ant from vender v in t\n",
    "for t in range(S_T):\n",
    "    a_vars.append([])\n",
    "    for v in range(S_V):\n",
    "        a_vars[t].append(case_2.addVar(lb = 0, vtype=GRB.BINARY,\n",
    "                                       name=('a' + str(t+1) + ',' + str(v+1))))\n",
    "\n",
    "p_vars = []  # 1 if product i be ordered by any method in t\n",
    "for i in range(S_I):\n",
    "    p_vars.append([])\n",
    "    for t in range(S_T):\n",
    "        p_vars[i].append(case_2.addVar(lb = 0, vtype=GRB.BINARY,\n",
    "                                       name=('p' + str(i+1) + ',' + str(t+1))))\n",
    "\n",
    "d_vars = []  # demand of product i in t as considering backorder\n",
    "for i in range(S_I):\n",
    "    d_vars.append([])\n",
    "    for t in range(S_T):\n",
    "        d_vars[i].append(case_2.addVar(lb = 0, vtype=GRB.CONTINUOUS,\n",
    "                                       name=('d' + str(i+1) + ',' + str(t+1))))"
   ]
  },
  {
   "cell_type": "markdown",
   "metadata": {},
   "source": [
    "## Objective Function"
   ]
  },
  {
   "cell_type": "code",
   "execution_count": 9,
   "metadata": {},
   "outputs": [],
   "source": [
    "case_2.setObjective(quicksum(quicksum(Holding_cost[i] * u_vars[i][t] for t in range(S_T)) for i in range(S_I))\n",
    "                    + quicksum(quicksum(quicksum((Shipping_cost[i][j] + Purchasing_cost[i]) * x_vars[i][j][t] for i in range(S_I)) + (Fixed_cost_shipping_method[j] * y_vars[j][t]) for j in range(S_J)) for t in range(S_T))\n",
    "                    + quicksum(2750 * z_vars[t] for t in range(S_T))\n",
    "                    + quicksum(quicksum((1-Backorder_percentage[i]) * Lost_sales_cost[i] * s_vars[i][t] for i in range(S_I)) for t in range(S_T))\n",
    "                    + quicksum(quicksum(Backorder_percentage[i] * Backorder_cost[i] * s_vars[i][t] for i in range(S_I)) for t in range(S_T))\n",
    "                    + quicksum(quicksum(Vendor_cost[v] * a_vars[t][v] for v in range(S_V)) for t in range(S_T)), GRB.MINIMIZE)"
   ]
  },
  {
   "cell_type": "markdown",
   "metadata": {},
   "source": [
    "## Constrainsts"
   ]
  },
  {
   "cell_type": "code",
   "execution_count": 10,
   "metadata": {},
   "outputs": [
    {
     "ename": "IndexError",
     "evalue": "list index out of range",
     "output_type": "error",
     "traceback": [
      "\u001b[0;31m---------------------------------------------------------------------------\u001b[0m",
      "\u001b[0;31mIndexError\u001b[0m                                Traceback (most recent call last)",
      "\u001b[0;32m<ipython-input-10-9f92898e7a8a>\u001b[0m in \u001b[0;36m<module>\u001b[0;34m\u001b[0m\n\u001b[1;32m     31\u001b[0m \u001b[0;32mfor\u001b[0m \u001b[0mv\u001b[0m \u001b[0;32min\u001b[0m \u001b[0mrange\u001b[0m\u001b[0;34m(\u001b[0m\u001b[0mS_V\u001b[0m\u001b[0;34m)\u001b[0m\u001b[0;34m:\u001b[0m\u001b[0;34m\u001b[0m\u001b[0;34m\u001b[0m\u001b[0m\n\u001b[1;32m     32\u001b[0m     case_2.addConstrs((M * a_vars[t][v] >= quicksum((quicksum(x_vars[i][j][t] for j in range(S_J))) for i in range(Vendor_sepr_index[v], Vendor_sepr_index[v+1])) for t in range(S_T)\n\u001b[0;32m---> 33\u001b[0;31m                       ), '當期是否有向該供應商訂購')\n\u001b[0m\u001b[1;32m     34\u001b[0m \u001b[0;34m\u001b[0m\u001b[0m\n\u001b[1;32m     35\u001b[0m case_2.addConstrs((M * p_vars[i][t] >= quicksum(x_vars[i][j][t] for j in range(S_J)) for i in range(S_I) for t in range(S_T)\n",
      "\u001b[0;32msrc/gurobipy/model.pxi\u001b[0m in \u001b[0;36mgurobipy.Model.addConstrs\u001b[0;34m()\u001b[0m\n",
      "\u001b[0;32m<ipython-input-10-9f92898e7a8a>\u001b[0m in \u001b[0;36m<genexpr>\u001b[0;34m(.0)\u001b[0m\n\u001b[1;32m     30\u001b[0m \u001b[0;34m\u001b[0m\u001b[0m\n\u001b[1;32m     31\u001b[0m \u001b[0;32mfor\u001b[0m \u001b[0mv\u001b[0m \u001b[0;32min\u001b[0m \u001b[0mrange\u001b[0m\u001b[0;34m(\u001b[0m\u001b[0mS_V\u001b[0m\u001b[0;34m)\u001b[0m\u001b[0;34m:\u001b[0m\u001b[0;34m\u001b[0m\u001b[0;34m\u001b[0m\u001b[0m\n\u001b[0;32m---> 32\u001b[0;31m     case_2.addConstrs((M * a_vars[t][v] >= quicksum((quicksum(x_vars[i][j][t] for j in range(S_J))) for i in range(Vendor_sepr_index[v], Vendor_sepr_index[v+1])) for t in range(S_T)\n\u001b[0m\u001b[1;32m     33\u001b[0m                       ), '當期是否有向該供應商訂購')\n\u001b[1;32m     34\u001b[0m \u001b[0;34m\u001b[0m\u001b[0m\n",
      "\u001b[0;32msrc/gurobipy/gurobi.pxi\u001b[0m in \u001b[0;36mgurobipy.quicksum\u001b[0;34m()\u001b[0m\n",
      "\u001b[0;32m<ipython-input-10-9f92898e7a8a>\u001b[0m in \u001b[0;36m<genexpr>\u001b[0;34m(.0)\u001b[0m\n\u001b[1;32m     30\u001b[0m \u001b[0;34m\u001b[0m\u001b[0m\n\u001b[1;32m     31\u001b[0m \u001b[0;32mfor\u001b[0m \u001b[0mv\u001b[0m \u001b[0;32min\u001b[0m \u001b[0mrange\u001b[0m\u001b[0;34m(\u001b[0m\u001b[0mS_V\u001b[0m\u001b[0;34m)\u001b[0m\u001b[0;34m:\u001b[0m\u001b[0;34m\u001b[0m\u001b[0;34m\u001b[0m\u001b[0m\n\u001b[0;32m---> 32\u001b[0;31m     case_2.addConstrs((M * a_vars[t][v] >= quicksum((quicksum(x_vars[i][j][t] for j in range(S_J))) for i in range(Vendor_sepr_index[v], Vendor_sepr_index[v+1])) for t in range(S_T)\n\u001b[0m\u001b[1;32m     33\u001b[0m                       ), '當期是否有向該供應商訂購')\n\u001b[1;32m     34\u001b[0m \u001b[0;34m\u001b[0m\u001b[0m\n",
      "\u001b[0;32msrc/gurobipy/gurobi.pxi\u001b[0m in \u001b[0;36mgurobipy.quicksum\u001b[0;34m()\u001b[0m\n",
      "\u001b[0;32m<ipython-input-10-9f92898e7a8a>\u001b[0m in \u001b[0;36m<genexpr>\u001b[0;34m(.0)\u001b[0m\n\u001b[1;32m     30\u001b[0m \u001b[0;34m\u001b[0m\u001b[0m\n\u001b[1;32m     31\u001b[0m \u001b[0;32mfor\u001b[0m \u001b[0mv\u001b[0m \u001b[0;32min\u001b[0m \u001b[0mrange\u001b[0m\u001b[0;34m(\u001b[0m\u001b[0mS_V\u001b[0m\u001b[0;34m)\u001b[0m\u001b[0;34m:\u001b[0m\u001b[0;34m\u001b[0m\u001b[0;34m\u001b[0m\u001b[0m\n\u001b[0;32m---> 32\u001b[0;31m     case_2.addConstrs((M * a_vars[t][v] >= quicksum((quicksum(x_vars[i][j][t] for j in range(S_J))) for i in range(Vendor_sepr_index[v], Vendor_sepr_index[v+1])) for t in range(S_T)\n\u001b[0m\u001b[1;32m     33\u001b[0m                       ), '當期是否有向該供應商訂購')\n\u001b[1;32m     34\u001b[0m \u001b[0;34m\u001b[0m\u001b[0m\n",
      "\u001b[0;31mIndexError\u001b[0m: list index out of range"
     ]
    }
   ],
   "source": [
    "case_2.addConstrs((u_vars[i][0] - s_vars[i][0] == In_transit[i][0] - d_vars[i][0] for i in range(S_I)\n",
    "                  ), '存貨水準定義（第一期）index = 0')\n",
    "\n",
    "case_2.addConstrs((u_vars[i][1] - s_vars[i][1] == u_vars[i][0] + x_vars[i][0][0] + In_transit[i][1] - d_vars[i][1] for i in range(S_I)\n",
    "                  ), '存貨水準定義（第二期）index = 1')\n",
    "\n",
    "case_2.addConstrs((u_vars[i][2] - s_vars[i][2] == u_vars[i][1] + x_vars[i][0][1] + x_vars[i][1][0] + In_transit[i][2] - d_vars[i][2] for i in range(S_I)\n",
    "                  ), '存貨水準定義（第三期）index = 2')\n",
    "\n",
    "case_2.addConstrs((u_vars[i][t] - s_vars[i][t] == u_vars[i][t-1] + x_vars[i][0][t-1] + x_vars[i][1][t-2] + x_vars[i][2][t-3] + In_transit[i][t] - d_vars[i][t] for i in range(S_I) for t in range(3, S_T)\n",
    "                  ), '存貨水準定義（從第四期開始）index = 3')\n",
    "\n",
    "case_2.addConstrs((M * k_vars[i][t] >= s_vars[i][t] for i in range(S_I) for t in range(S_T)\n",
    "                  ), '存貨水準與缺貨數量關係_1')\n",
    "                  \n",
    "case_2.addConstrs((M * (1 - k_vars[i][t]) >= u_vars[i][t] for i in range(S_I) for t in range(S_T)\n",
    "                  ), '存貨水準與缺貨數量關係_2')\n",
    "\n",
    "case_2.addConstrs((M * y_vars[j][t] >= quicksum(x_vars[i][j][t] for i in range(S_I)) for j in range(S_J) for t in range(S_T)\n",
    "                  ), '有無使用此運送方式')\n",
    "\n",
    "case_2.addConstrs((z_vars[t] >= (quicksum(Product_size[i] * x_vars[i][2][t] for i in range(S_I))) / 30 for t in range(S_T)\n",
    "                  ), '貨櫃')\n",
    "\n",
    "case_2.addConstrs((d_vars[i][0] >= Demand[i][0] for i in range(S_I)\n",
    "                  ), '考量上期缺貨後的需求(第一期)')\n",
    "\n",
    "case_2.addConstrs((d_vars[i][t] >= Demand[i][t] + (Backorder_percentage[i] * s_vars[i][t-1]) for i in range(S_I) for t in range(1, S_T)\n",
    "                  ), '考量上期缺貨後的需求(第二期開始)')\n",
    "\n",
    "for v in range(S_V):\n",
    "    case_2.addConstrs((M * a_vars[t][v] >= quicksum((quicksum(x_vars[i][j][t] for j in range(S_J))) for i in range(Vendor_sepr_index[v], Vendor_sepr_index[v+1])) for t in range(S_T)\n",
    "                      ), '當期是否有向該供應商訂購')\n",
    "\n",
    "case_2.addConstrs((M * p_vars[i][t] >= quicksum(x_vars[i][j][t] for j in range(S_J)) for i in range(S_I) for t in range(S_T)\n",
    "                  ), '當期是否有訂購該商品')\n",
    "case_2.addConstrs((Bounds[i] * p_vars[i][t] <= quicksum(x_vars[i][j][t] for j in range(S_J)) for i in range(S_I) for t in range(S_T)\n",
    "                  ), '如果有的話要訂超過最低限制的量')\n",
    "\n",
    "case_2.addConstrs((1 >= p_vars[i][t] + p_vars[k][t] for i, k in Conflict for t in range(S_T)\n",
    "                  ), '不能同時訂特定兩樣商品')\n",
    "\n",
    "case_2.optimize()"
   ]
  },
  {
   "cell_type": "code",
   "execution_count": null,
   "metadata": {},
   "outputs": [],
   "source": [
    "# for var in case_2.getVars():\n",
    "#     print(var.varName, '=', var.x)\n",
    "print(\"objective value =\", case_2.objVal)"
   ]
  },
  {
   "cell_type": "code",
   "execution_count": null,
   "metadata": {},
   "outputs": [],
   "source": []
  }
 ],
 "metadata": {
  "kernelspec": {
   "display_name": "Python 3",
   "language": "python",
   "name": "python3"
  },
  "language_info": {
   "codemirror_mode": {
    "name": "ipython",
    "version": 3
   },
   "file_extension": ".py",
   "mimetype": "text/x-python",
   "name": "python",
   "nbconvert_exporter": "python",
   "pygments_lexer": "ipython3",
   "version": "3.7.10"
  }
 },
 "nbformat": 4,
 "nbformat_minor": 4
}
