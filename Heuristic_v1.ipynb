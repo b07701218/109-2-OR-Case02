{
 "cells": [
  {
   "cell_type": "code",
   "execution_count": 1,
   "id": "70b2d059",
   "metadata": {},
   "outputs": [],
   "source": [
    "from gurobi import *\n",
    "import pandas as pd\n",
    "import numpy as np\n",
    "import time"
   ]
  },
  {
   "cell_type": "markdown",
   "id": "0192c1d3",
   "metadata": {},
   "source": [
    "## 所有資訊前處理"
   ]
  },
  {
   "cell_type": "code",
   "execution_count": 2,
   "id": "7ac03234",
   "metadata": {},
   "outputs": [],
   "source": [
    "begin = time.time()\n",
    "url = r'/Users/yuchiaching/Desktop/OR109-2_student/data/OR109-2_case02_data_s1.xlsx'"
   ]
  },
  {
   "cell_type": "code",
   "execution_count": 3,
   "id": "2640ca76",
   "metadata": {},
   "outputs": [
    {
     "name": "stdout",
     "output_type": "stream",
     "text": [
      "    Express delivery  Air freight\n",
      "0                 44           18\n",
      "1                 89           45\n",
      "2                 86           38\n",
      "3                 91           46\n",
      "4                 50           21\n",
      "..               ...          ...\n",
      "95                71           71\n",
      "96                77           59\n",
      "97                80           48\n",
      "98               115          107\n",
      "99                24           22\n",
      "\n",
      "[100 rows x 2 columns]\n"
     ]
    }
   ],
   "source": [
    "# D_it\n",
    "Demand_info = pd.read_excel(url, 'Demand').iloc[:,1:]\n",
    "Demand = []\n",
    "for i in Demand_info.index:\n",
    "    Demand.append(list(Demand_info.loc[i]))\n",
    "\n",
    "# I_it\n",
    "Init_inv_info = pd.read_excel(url, 'Initial inventory')\n",
    "In_transit_info = pd.read_excel(url, 'In-transit').iloc[:,2:]\n",
    "In_transit = []\n",
    "for i in In_transit_info.index:\n",
    "    In_transit.append([list(Init_inv_info['Initial inventory'])[i]] + list(In_transit_info.loc[i]) + [0] * (26 - 3))\n",
    "\n",
    "# C^V_ij\n",
    "Shipping_cost_info = pd.read_excel(url, 'Shipping cost').iloc[:,1:]\n",
    "print(Shipping_cost_info)\n",
    "Shipping_cost = []\n",
    "for i in Shipping_cost_info.index:\n",
    "    Shipping_cost.append(list(Shipping_cost_info.loc[i]) + [0])\n",
    "\n",
    "Price_and_cost_info = pd.read_excel(url, 'Price and cost').iloc[:,1:]\n",
    "# C^P_i\n",
    "Purchasing_cost = list(Price_and_cost_info['Purchasing cost'])\n",
    "# C^H_i\n",
    "Holding_cost = list(Price_and_cost_info['Holding cost'])\n",
    "\n",
    "# C^F_j\n",
    "Fixed_cost_shipping_method = [100, 80, 50]\n",
    "\n",
    "# T_j\n",
    "Lead_time = [1, 2, 3]\n",
    "\n",
    "# V_i\n",
    "Product_size_info = pd.read_excel(url, 'Size')\n",
    "Product_size = list(Product_size_info['Size'])\n",
    "\n",
    "Shortage_info = pd.read_excel(url, 'Shortage')\n",
    "# C^L_i\n",
    "Lost_sales_cost = list(Shortage_info['Lost sales'])\n",
    "# C^B_i\n",
    "Backorder_cost = list(Shortage_info['Backorder'])\n",
    "# beta_i\n",
    "Backorder_percentage = list(Shortage_info['Backorder percentage'])\n",
    "\n",
    "Vendor_product_info = pd.read_excel(url, 'Vendor-Product')\n",
    "Vendor_product = list(Vendor_product_info['Vendor'])\n",
    "\n",
    "Vendor_cost_info = pd.read_excel(url, 'Vendor cost')\n",
    "Vendor_cost = list(Vendor_cost_info['Ordering cost'])\n",
    "# print(Vendor_cost)\n",
    "\n",
    "Bounds_info = pd.read_excel(url, 'Bounds')\n",
    "Bounds = list(Bounds_info['Minimum order quantity (if an order is placed)'])\n",
    "\n",
    "Conflict_info = pd.read_excel(url, 'Conflict')\n",
    "\n",
    "product1_list = list(Conflict_info['Product 1'] - 1)\n",
    "product2_list = list(Conflict_info['Product 2'] - 1)\n",
    "\n",
    "Conflict = []\n",
    "for i in range(len(product1_list)):\n",
    "    Conflict.append(tuple([(int(product1_list[i])), (int(product2_list[i]))]))"
   ]
  },
  {
   "cell_type": "code",
   "execution_count": 4,
   "id": "cde2565f",
   "metadata": {},
   "outputs": [],
   "source": [
    "S_I = len(Product_size)  # Set of products\n",
    "S_J = 3                  # Set of shipping methods\n",
    "S_T = 26                 # Set of months\n",
    "S_V = len(Vendor_cost)   # Set of vendors\n",
    "\n",
    "# print(S_I, S_J, S_T, S_V)"
   ]
  },
  {
   "cell_type": "markdown",
   "id": "a7e75f74",
   "metadata": {},
   "source": [
    "## 預設訂購量格式"
   ]
  },
  {
   "cell_type": "code",
   "execution_count": 5,
   "id": "73e682a4",
   "metadata": {},
   "outputs": [],
   "source": [
    "order = []\n",
    "for i in range(S_I):\n",
    "    order.append([])\n",
    "    for j in range(S_J):\n",
    "        order[i].append([])\n",
    "        for t in range(S_T):\n",
    "            order[i][j].append(0)\n",
    "# print(order)"
   ]
  },
  {
   "cell_type": "markdown",
   "id": "95e94d01",
   "metadata": {},
   "source": [
    "## 決定運送方式"
   ]
  },
  {
   "cell_type": "code",
   "execution_count": 6,
   "id": "fbccd35d",
   "metadata": {},
   "outputs": [
    {
     "name": "stdout",
     "output_type": "stream",
     "text": [
      "1\n"
     ]
    }
   ],
   "source": [
    "# variable shipping cost\n",
    "ocean_shipping_cost = []\n",
    "for i in range(S_I):\n",
    "    unit_cost = Product_size[i] / 0.5 * 1500\n",
    "    ocean_shipping_cost.append(unit_cost)\n",
    "\n",
    "product_demand = []\n",
    "product_demand_from4 = []\n",
    "for i in range(S_I):    \n",
    "    product_demand.append(sum(Demand[i]))\n",
    "    product_demand_from4.append(product_demand[i] - max(sum(In_transit[i]), sum(Demand[i][0:3])))\n",
    "\n",
    "ocean_cost_sum_from4 = 0\n",
    "for i in range(len(ocean_shipping_cost)):\n",
    "    ocean_cost_sum_from4 += product_demand_from4[i]*ocean_shipping_cost[i]\n",
    "ocean_cost_sum_from4 += 50 * len(Demand[0])\n",
    "\n",
    "express_cost_sum_from4 = 0\n",
    "for i in range(len(Shipping_cost)):\n",
    "    express_cost_sum_from4 += product_demand_from4[i]*Shipping_cost[i][0]\n",
    "express_cost_sum_from4 += 100*len(Demand[0])\n",
    "\n",
    "air_cost_sum_from4 = 0\n",
    "for i in range(len(Shipping_cost)):\n",
    "    air_cost_sum_from4 += product_demand_from4[i]*Shipping_cost[i][1]\n",
    "air_cost_sum_from4 += 80*len(Demand[0])\n",
    "\n",
    "if express_cost_sum_from4 <= air_cost_sum_from4 and express_cost_sum_from4 <= ocean_cost_sum_from4:\n",
    "    shipping_method = 0\n",
    "elif air_cost_sum_from4 <= express_cost_sum_from4 and air_cost_sum_from4 <= ocean_cost_sum_from4:\n",
    "    shipping_method = 1\n",
    "else:\n",
    "    shipping_method = 2\n",
    "\n",
    "# 決定運送方式\n",
    "print(shipping_method)"
   ]
  },
  {
   "cell_type": "markdown",
   "id": "8444db4a",
   "metadata": {},
   "source": [
    "## 衝突產品字典"
   ]
  },
  {
   "cell_type": "code",
   "execution_count": 7,
   "id": "7dab846d",
   "metadata": {},
   "outputs": [
    {
     "name": "stdout",
     "output_type": "stream",
     "text": [
      "36 [53, 88]\n",
      "74 [83, 69]\n",
      "31 [78, 23]\n",
      "15 [42]\n",
      "42 [15]\n",
      "53 [36]\n",
      "88 [36]\n",
      "84 [92]\n",
      "92 [84]\n",
      "83 [74]\n",
      "35 [52]\n",
      "52 [35]\n",
      "69 [74]\n",
      "78 [31]\n",
      "23 [31]\n"
     ]
    }
   ],
   "source": [
    "conflict_dict = dict()\n",
    "\n",
    "for i in range(len(Conflict)):\n",
    "    for j in range(len(Conflict[i])):\n",
    "        if Conflict[i][j] not in conflict_dict:\n",
    "            conflict_dict[Conflict[i][j]] = [Conflict[i][j-1]]\n",
    "        else:\n",
    "            conflict_dict[Conflict[i][j]].append(Conflict[i][j-1])\n",
    "\n",
    "\n",
    "# 要檢查是否有衝突的產品清單\n",
    "# 檢查順序按照有關聯的商品數排序\n",
    "# 例如 conflict_dict[31] ＝ [78, 23] 因為跟 31 產品有關聯的產品有兩個所以要先檢查\n",
    "check_conflict = list(conflict_dict.keys())\n",
    "check_conflict = sorted(check_conflict, reverse=True, key=lambda d: len(conflict_dict[d]))\n",
    "\n",
    "# # 範例\n",
    "# print(conflict_dict[31])\n",
    "# # 有衝突關係的產品\n",
    "# print(check_conflict)\n",
    "\n",
    "# 排序後結果\n",
    "for i in check_conflict:\n",
    "    print(i, conflict_dict[i])"
   ]
  },
  {
   "cell_type": "markdown",
   "id": "4fb1775e",
   "metadata": {},
   "source": [
    "## 計算每期短缺量並比較\n",
    "每期訂的量要能滿足 S_L+1 期的需求（包括當期）\n",
    "S_L 為該訂購方式之 Lead time"
   ]
  },
  {
   "cell_type": "code",
   "execution_count": 8,
   "id": "8277b919",
   "metadata": {},
   "outputs": [
    {
     "name": "stdout",
     "output_type": "stream",
     "text": [
      "2\n"
     ]
    }
   ],
   "source": [
    "# 該訂購方式的 leadtime\n",
    "S_L = Lead_time[shipping_method]\n",
    "print(S_L)\n",
    "\n",
    "# 最後 S_L 期理論上不會訂貨\n",
    "for t in range(S_T - S_L):\n",
    "\n",
    "    inv_level = []\n",
    "    lostcost = []\n",
    "\n",
    "    # 計算若當期不訂購，則未來 S_L+1 期內的存貨水準\n",
    "    for i in range(S_I):\n",
    "        inv_level.append(sum(In_transit[i][t:(t+S_L+1)]) - sum(Demand[i][t:(t+S_L+1)]))\n",
    "\n",
    "        # 如果有缺貨\n",
    "        if inv_level[i] < 0:\n",
    "            # 計算當期訂購量\n",
    "            order[i][shipping_method][t] = int(-inv_level[i])\n",
    "            # 計算當期缺貨損失\n",
    "            lostcost.append(-(inv_level[i] * Backorder_percentage[i] * Backorder_cost[i] + inv_level[i] * (1-Backorder_percentage[i]) * Lost_sales_cost[i]))\n",
    "        else:\n",
    "            # 計算當期訂購量（沒有缺貨設為 0）\n",
    "            order[i][shipping_method][t] = 0 \n",
    "            # 計算當期缺貨損失（沒有缺貨設為 0）\n",
    "            lostcost.append(0)\n",
    "\n",
    "#     print(inv_level)\n",
    "\n",
    "    # 檢查衝突問題   \n",
    "    for i in check_conflict:\n",
    "        # 要比較的對象\n",
    "        temp_compare_index = [i] + conflict_dict[i]\n",
    "        # 要比較的對象的訂購量\n",
    "        temp_compare_order = []\n",
    "        for k in temp_compare_index:\n",
    "             temp_compare_order.append(order[k][shipping_method][t])\n",
    "\n",
    "    #     # 檢查\n",
    "    #     print(temp_compare_index)\n",
    "    #     print(temp_compare_order)\n",
    "    #     print('\\n')\n",
    "\n",
    "        # 如果組內有兩個產品以上要訂購，必須做處理\n",
    "        if temp_compare_order.count(0) < (len(temp_compare_index) - 1):\n",
    "            temp_compare_lostcost = []\n",
    "            for k in temp_compare_index:\n",
    "                temp_compare_lostcost.append(lostcost[k])\n",
    "\n",
    "            # 要訂購的產品\n",
    "            trgt = temp_compare_index[temp_compare_lostcost.index(max(temp_compare_lostcost))]\n",
    "\n",
    "#             # 印出來檢查\n",
    "#             print('有問題的產品組合')\n",
    "#             print(temp_compare_index)\n",
    "#             print('目前個別的訂購量')\n",
    "#             print(temp_compare_order)\n",
    "#             print('目前個別的缺貨成本')\n",
    "#             print(temp_compare_lostcost)\n",
    "#             print('要訂購的產品')\n",
    "#             print(trgt)\n",
    "#             print('\\n')\n",
    "\n",
    "            # 把其他不要訂購的產品的訂購量設為 0\n",
    "            for k in temp_compare_index:\n",
    "                if k != trgt:\n",
    "                    order[k][shipping_method][t] = 0\n",
    "    \n",
    "    # 可能衝突商品處理完成\n",
    "   \n",
    "    # 處理其他部分\n",
    "    for i in range(S_I):\n",
    "        # 處理最低訂購量\n",
    "        if (order[i][shipping_method][t] > 0) and (order[i][shipping_method][t] < Bounds[i]):\n",
    "            order[i][shipping_method][t] = Bounds[i]\n",
    "        \n",
    "        # 更新下期實際期初存貨（也可以說是在途存貨）\n",
    "        # 當期就有缺貨的話則更新 backorder 量到下期需求\n",
    "        if (In_transit[i][t] - Demand[i][t]) > 0:\n",
    "            In_transit[i][t+1] += (In_transit[i][t] - Demand[i][t])\n",
    "        \n",
    "        else:\n",
    "            Demand[i][t+1] += int((Demand[i][t] - In_transit[i][t]) * Backorder_percentage[i])\n",
    "\n",
    "        # 把訂購量更新到 S_L 期後的在途存貨\n",
    "        In_transit[i][t+S_L] += order[i][shipping_method][t]\n"
   ]
  },
  {
   "cell_type": "code",
   "execution_count": 9,
   "id": "9685047b",
   "metadata": {},
   "outputs": [],
   "source": [
    "# real_shortage_list = []\n",
    "\n",
    "# for i in range(S_I):\n",
    "#     real_shortage_list.append([])\n",
    "#     for t in range(S_T):\n",
    "#         real_shortage_list[i].append(int(In_transit[i][t] - Demand[i][t]))\n",
    "\n",
    "# real_shortage_pandas = pd.DataFrame(real_shortage_list)\n",
    "# print(real_shortage_pandas)\n",
    "# real_shortage_pandas.to_excel(r'/Users/yuchiaching/Desktop/real_shortage.xlsx')"
   ]
  },
  {
   "cell_type": "markdown",
   "id": "6102b102",
   "metadata": {},
   "source": [
    "## 花費時間"
   ]
  },
  {
   "cell_type": "code",
   "execution_count": 10,
   "id": "47d6a1f3",
   "metadata": {},
   "outputs": [
    {
     "name": "stdout",
     "output_type": "stream",
     "text": [
      "0.9336841106414795 seconds\n"
     ]
    }
   ],
   "source": [
    "print(str(time.time() - begin) + ' seconds')"
   ]
  },
  {
   "cell_type": "markdown",
   "id": "e413de2a",
   "metadata": {},
   "source": [
    "## 匯出空運的訂購量成 Excel 檔案（方便查看和比較）"
   ]
  },
  {
   "cell_type": "code",
   "execution_count": 11,
   "id": "ca084ae0",
   "metadata": {},
   "outputs": [
    {
     "name": "stdout",
     "output_type": "stream",
     "text": [
      "     0    1   2    3    4    5    6    7    8    9   ...   16   17   18   19  \\\n",
      "0     0    0   0   38   79   12  151  165  142  163  ...   49    0   67  148   \n",
      "1     0    0   0   60  241  145   60  148   60  110  ...  180  156   60  239   \n",
      "2     0    0  82  200   66  199  101    0  270  237  ...    0  196   61    0   \n",
      "3     0    0  97  155  153   75  108  139   97  182  ...   70    0  158  229   \n",
      "4     0    0  67   60   60   71  162   60  199    0  ...   60    0  134   60   \n",
      "..  ...  ...  ..  ...  ...  ...  ...  ...  ...  ...  ...  ...  ...  ...  ...   \n",
      "95    0    0  70   70   95  156  213  163  125  138  ...  197  251  202  108   \n",
      "96    0    0   0    0    0  190   55    0  100  264  ...  136  144   52  101   \n",
      "97    0    0   0    0    0    0    0    0    0    0  ...    0  292   30    0   \n",
      "98    0    0  52  143   62  129   67  137   10  192  ...   28   38   63  115   \n",
      "99  352  194   0  132   52  282  116  159   99  196  ...   19  322  120  277   \n",
      "\n",
      "     20   21   22   23  24  25  \n",
      "0   118  166   66    0   0   0  \n",
      "1     0  227  154  162   0   0  \n",
      "2   174  332    0  187   0   0  \n",
      "3    97  226   70    0   0   0  \n",
      "4   290   60    0    0   0   0  \n",
      "..  ...  ...  ...  ...  ..  ..  \n",
      "95  102  136  255  283   0   0  \n",
      "96  145  317   66  217   0   0  \n",
      "97  147  178    0  258   0   0  \n",
      "98  151   74    0   10   0   0  \n",
      "99  116  259    0  255   0   0  \n",
      "\n",
      "[100 rows x 26 columns]\n"
     ]
    }
   ],
   "source": [
    "order_air = []\n",
    "\n",
    "for i in range(S_I):\n",
    "    order_air.append(order[i][1])\n",
    "\n",
    "order_pandas = pd.DataFrame(order_air)\n",
    "print(order_pandas)\n",
    "order_pandas.to_excel(r'/Users/yuchiaching/Desktop/order_air.xlsx')"
   ]
  },
  {
   "cell_type": "code",
   "execution_count": null,
   "id": "9571464d",
   "metadata": {},
   "outputs": [],
   "source": []
  }
 ],
 "metadata": {
  "kernelspec": {
   "display_name": "Python 3",
   "language": "python",
   "name": "python3"
  },
  "language_info": {
   "codemirror_mode": {
    "name": "ipython",
    "version": 3
   },
   "file_extension": ".py",
   "mimetype": "text/x-python",
   "name": "python",
   "nbconvert_exporter": "python",
   "pygments_lexer": "ipython3",
   "version": "3.7.10"
  }
 },
 "nbformat": 4,
 "nbformat_minor": 5
}
